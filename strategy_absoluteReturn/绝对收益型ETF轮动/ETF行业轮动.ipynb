{
 "cells": [
  {
   "cell_type": "code",
   "execution_count": 1,
   "metadata": {},
   "outputs": [
    {
     "name": "stderr",
     "output_type": "stream",
     "text": [
      "/Users/domi/Python/.conda/lib/python3.11/site-packages/rqdatac/client.py:257: UserWarning: Your account will be expired after  24 days. Please call us at 0755-22676337 to upgrade or purchase or renew your contract.\n",
      "  warnings.warn(\"Your account will be expired after  {} days. \"\n"
     ]
    }
   ],
   "source": [
    "import rqdatac\n",
    "rqdatac.init()"
   ]
  },
  {
   "cell_type": "code",
   "execution_count": 2,
   "metadata": {},
   "outputs": [
    {
     "name": "stdout",
     "output_type": "stream",
     "text": [
      "24.5.0.60024\n"
     ]
    },
    {
     "name": "stderr",
     "output_type": "stream",
     "text": [
      "2025-01-20 23:30:38.939 python[80888:6151242] +[IMKClient subclass]: chose IMKClient_Modern\n"
     ]
    },
    {
     "name": "stdout",
     "output_type": "stream",
     "text": [
      "Wind.Cosmos.Base V1.7 compiled time is Apr 17 2023, BuildType:Release, CPUArch:X64, GCC Version:Apple LLVM 13.0.0 (clang-1300.0.29.30)\n",
      "Welcome to use Wind Quant API for Python (WindPy)!\n",
      "\n",
      "COPYRIGHT (C) 2021 WIND INFORMATION CO., LTD. ALL RIGHTS RESERVED.\n",
      "IN NO CIRCUMSTANCE SHALL WIND BE RESPONSIBLE FOR ANY DAMAGES OR LOSSES CAUSED BY USING WIND QUANT API FOR Python.\n",
      ".ErrorCode=0\n",
      ".Data=[OK!]\n",
      "True\n",
      ".ErrorCode=0\n",
      ".Codes=[000001.SZ]\n",
      ".Fields=[SEC_NAME]\n",
      ".Times=[20220509,20220510,20220511,20220512,20220513,20220516,20220517,20220518,20220519,20220520,...]\n",
      ".Data=[[平安银行,平安银行,平安银行,平安银行,平安银行,平安银行,平安银行,平安银行,平安银行,平安银行,...]]\n"
     ]
    }
   ],
   "source": [
    "from WindPy import *\n",
    "ret = w.start()\n",
    "print(ret)\n",
    "ret = w.isconnected()\n",
    "print(ret)\n",
    "#test WSD function\n",
    "ret = w.wsd(\"000001.SZ\", \"sec_name\", \"2022-05-08\", \"2022-06-08\", \"\")\n",
    "print(ret)"
   ]
  },
  {
   "cell_type": "code",
   "execution_count": 3,
   "metadata": {},
   "outputs": [
    {
     "data": {
      "text/plain": [
       "'\\n【策略含义】\\n“景气度+资金流+拥挤度”ETF行业轮动策略\\n自下而上的基于ETF指数成分股信息构建配置策略\\n景气度为核心维度：主要基于财报以及一致预期数据挖掘行业内在景气价值\\n资金流和拥挤度是交易型指标\\n景气度指标的表现更加稳定，故采用“景气度为主，资金面+拥挤度为辅”的策略\\n\\n【行业主题ETF筛选与权重配置规则】\\n1.首先，基于景气度模型确定核心仓位，通过每月调仓截面上景气度最高的五个ETF跟踪指数等权分配确定基础仓位\\n2.其次，根据资金流情况调整持仓权重，资金流指标排在前五位的指数仓位翻倍，后五位仓位降低50%\\n3.最后，根据拥挤度指标确定最终的指数仓位，拥挤度处于2以上仓位降低50%，3以上仓位清零。拥挤度指标取每月末最后十个交易日的最大拥挤度数值\\n\\n'"
      ]
     },
     "execution_count": 3,
     "metadata": {},
     "output_type": "execute_result"
    }
   ],
   "source": [
    "'''\n",
    "【策略含义】\n",
    "“景气度+资金流+拥挤度”ETF行业轮动策略\n",
    "自下而上的基于ETF指数成分股信息构建配置策略\n",
    "景气度为核心维度：主要基于财报以及一致预期数据挖掘行业内在景气价值\n",
    "资金流和拥挤度是交易型指标\n",
    "景气度指标的表现更加稳定，故采用“景气度为主，资金面+拥挤度为辅”的策略\n",
    "\n",
    "【行业主题ETF筛选与权重配置规则】\n",
    "1.首先，基于景气度模型确定核心仓位，通过每月调仓截面上景气度最高的五个ETF跟踪指数等权分配确定基础仓位\n",
    "2.其次，根据资金流情况调整持仓权重，资金流指标排在前五位的指数仓位翻倍，后五位仓位降低50%\n",
    "3.最后，根据拥挤度指标确定最终的指数仓位，拥挤度处于2以上仓位降低50%，3以上仓位清零。拥挤度指标取每月末最后十个交易日的最大拥挤度数值\n",
    "'''"
   ]
  },
  {
   "cell_type": "code",
   "execution_count": 4,
   "metadata": {},
   "outputs": [
    {
     "data": {
      "text/html": [
       "<div>\n",
       "<style scoped>\n",
       "    .dataframe tbody tr th:only-of-type {\n",
       "        vertical-align: middle;\n",
       "    }\n",
       "\n",
       "    .dataframe tbody tr th {\n",
       "        vertical-align: top;\n",
       "    }\n",
       "\n",
       "    .dataframe thead th {\n",
       "        text-align: right;\n",
       "    }\n",
       "</style>\n",
       "<table border=\"1\" class=\"dataframe\">\n",
       "  <thead>\n",
       "    <tr style=\"text-align: right;\">\n",
       "      <th></th>\n",
       "      <th>first_industry_code</th>\n",
       "      <th>first_industry_name</th>\n",
       "      <th>second_industry_code</th>\n",
       "      <th>second_industry_name</th>\n",
       "      <th>third_industry_code</th>\n",
       "      <th>third_industry_name</th>\n",
       "    </tr>\n",
       "  </thead>\n",
       "  <tbody>\n",
       "    <tr>\n",
       "      <th>0</th>\n",
       "      <td>10</td>\n",
       "      <td>石油石化</td>\n",
       "      <td>1010</td>\n",
       "      <td>石油开采Ⅱ</td>\n",
       "      <td>101010</td>\n",
       "      <td>石油开采Ⅲ</td>\n",
       "    </tr>\n",
       "    <tr>\n",
       "      <th>1</th>\n",
       "      <td>10</td>\n",
       "      <td>石油石化</td>\n",
       "      <td>1020</td>\n",
       "      <td>石油化工</td>\n",
       "      <td>102010</td>\n",
       "      <td>炼油</td>\n",
       "    </tr>\n",
       "    <tr>\n",
       "      <th>2</th>\n",
       "      <td>10</td>\n",
       "      <td>石油石化</td>\n",
       "      <td>1020</td>\n",
       "      <td>石油化工</td>\n",
       "      <td>102040</td>\n",
       "      <td>油品销售及仓储</td>\n",
       "    </tr>\n",
       "    <tr>\n",
       "      <th>3</th>\n",
       "      <td>10</td>\n",
       "      <td>石油石化</td>\n",
       "      <td>1020</td>\n",
       "      <td>石油化工</td>\n",
       "      <td>102050</td>\n",
       "      <td>其他石化</td>\n",
       "    </tr>\n",
       "    <tr>\n",
       "      <th>4</th>\n",
       "      <td>10</td>\n",
       "      <td>石油石化</td>\n",
       "      <td>1030</td>\n",
       "      <td>油田服务Ⅱ</td>\n",
       "      <td>103010</td>\n",
       "      <td>油田服务Ⅲ</td>\n",
       "    </tr>\n",
       "    <tr>\n",
       "      <th>...</th>\n",
       "      <td>...</td>\n",
       "      <td>...</td>\n",
       "      <td>...</td>\n",
       "      <td>...</td>\n",
       "      <td>...</td>\n",
       "      <td>...</td>\n",
       "    </tr>\n",
       "    <tr>\n",
       "      <th>273</th>\n",
       "      <td>63</td>\n",
       "      <td>传媒</td>\n",
       "      <td>6330</td>\n",
       "      <td>文化娱乐</td>\n",
       "      <td>633040</td>\n",
       "      <td>其他文化娱乐</td>\n",
       "    </tr>\n",
       "    <tr>\n",
       "      <th>274</th>\n",
       "      <td>63</td>\n",
       "      <td>传媒</td>\n",
       "      <td>6340</td>\n",
       "      <td>互联网媒体</td>\n",
       "      <td>634010</td>\n",
       "      <td>信息搜索与聚合</td>\n",
       "    </tr>\n",
       "    <tr>\n",
       "      <th>275</th>\n",
       "      <td>63</td>\n",
       "      <td>传媒</td>\n",
       "      <td>6340</td>\n",
       "      <td>互联网媒体</td>\n",
       "      <td>634020</td>\n",
       "      <td>社交与互动媒体</td>\n",
       "    </tr>\n",
       "    <tr>\n",
       "      <th>276</th>\n",
       "      <td>63</td>\n",
       "      <td>传媒</td>\n",
       "      <td>6340</td>\n",
       "      <td>互联网媒体</td>\n",
       "      <td>634030</td>\n",
       "      <td>互联网影视音频</td>\n",
       "    </tr>\n",
       "    <tr>\n",
       "      <th>277</th>\n",
       "      <td>70</td>\n",
       "      <td>综合</td>\n",
       "      <td>7010</td>\n",
       "      <td>综合Ⅱ</td>\n",
       "      <td>701010</td>\n",
       "      <td>综合Ⅲ</td>\n",
       "    </tr>\n",
       "  </tbody>\n",
       "</table>\n",
       "<p>278 rows × 6 columns</p>\n",
       "</div>"
      ],
      "text/plain": [
       "    first_industry_code first_industry_name second_industry_code  \\\n",
       "0                    10                石油石化                 1010   \n",
       "1                    10                石油石化                 1020   \n",
       "2                    10                石油石化                 1020   \n",
       "3                    10                石油石化                 1020   \n",
       "4                    10                石油石化                 1030   \n",
       "..                  ...                 ...                  ...   \n",
       "273                  63                  传媒                 6330   \n",
       "274                  63                  传媒                 6340   \n",
       "275                  63                  传媒                 6340   \n",
       "276                  63                  传媒                 6340   \n",
       "277                  70                  综合                 7010   \n",
       "\n",
       "    second_industry_name third_industry_code third_industry_name  \n",
       "0                  石油开采Ⅱ              101010               石油开采Ⅲ  \n",
       "1                   石油化工              102010                  炼油  \n",
       "2                   石油化工              102040             油品销售及仓储  \n",
       "3                   石油化工              102050                其他石化  \n",
       "4                  油田服务Ⅱ              103010               油田服务Ⅲ  \n",
       "..                   ...                 ...                 ...  \n",
       "273                 文化娱乐              633040              其他文化娱乐  \n",
       "274                互联网媒体              634010             信息搜索与聚合  \n",
       "275                互联网媒体              634020             社交与互动媒体  \n",
       "276                互联网媒体              634030             互联网影视音频  \n",
       "277                  综合Ⅱ              701010                 综合Ⅲ  \n",
       "\n",
       "[278 rows x 6 columns]"
      ]
     },
     "execution_count": 4,
     "metadata": {},
     "output_type": "execute_result"
    }
   ],
   "source": [
    "import pandas as pd\n",
    "# 设置显示最大行数为None，表示显示所有行\n",
    "pd.reset_option('display.max_rows', None)\n",
    "rqdatac.get_industry_mapping(source='citics', date=None, market='cn')"
   ]
  },
  {
   "cell_type": "code",
   "execution_count": 5,
   "metadata": {},
   "outputs": [],
   "source": [
    "'''\n",
    "1.剔除最新规模在2亿元以下的ETF\n",
    "2.通过Wind获取所有股票ETF及跟踪指数，再根据跟踪指数成分筛选持有行业集中的ETF指数，计算每个ETF指数在二级子行业的持仓比例，然后逐个行业选择持股比例最高的ETF跟踪指数\n",
    "3.\n",
    "'''\n",
    "all_etf_df = pd.DataFrame(w.wset(\"sectorconstituent\", \"date=20250120;sectorId=1000009165000000;\").Data).T\n",
    "all_etf_df.columns = [\"查询日期\",\"ETF代码\",\"ETF简称\"]\n",
    "trackcode_info = w.wss(all_etf_df[\"ETF代码\"].tolist(), \"fund_trackindexcode,  fund_trackindexname,  val_mv_ARD\", \"unit=1;tradeDate=20250119;\").Data\n",
    "# 将trackcode_list合并到all_etf_df中\n",
    "all_etf_df[[\"跟踪指数代码\",\"跟踪指数简称\",\"跟踪指数市值\"]] = pd.DataFrame(trackcode_info).T\n",
    "# 筛选出市值在2亿以上的ETF\n",
    "etf_above_2million = all_etf_df[all_etf_df[\"跟踪指数市值\"] > 200000000]"
   ]
  },
  {
   "cell_type": "code",
   "execution_count": 7,
   "metadata": {},
   "outputs": [
    {
     "ename": "ValueError",
     "evalue": "unknown order_book_id: 830799",
     "output_type": "error",
     "traceback": [
      "\u001b[0;31m---------------------------------------------------------------------------\u001b[0m",
      "\u001b[0;31mValueError\u001b[0m                                Traceback (most recent call last)",
      "Cell \u001b[0;32mIn[7], line 9\u001b[0m\n\u001b[1;32m      7\u001b[0m index_components \u001b[38;5;241m=\u001b[39m pd\u001b[38;5;241m.\u001b[39mDataFrame(w\u001b[38;5;241m.\u001b[39mwset(\u001b[38;5;124m\"\u001b[39m\u001b[38;5;124mindexconstituent\u001b[39m\u001b[38;5;124m\"\u001b[39m, \u001b[38;5;124m\"\u001b[39m\u001b[38;5;124mdate=20250120;windcode=\u001b[39m\u001b[38;5;124m\"\u001b[39m\u001b[38;5;241m+\u001b[39mall_trackCode_list[i]\u001b[38;5;241m+\u001b[39m\u001b[38;5;124m\"\u001b[39m\u001b[38;5;124m;\u001b[39m\u001b[38;5;124m\"\u001b[39m)\u001b[38;5;241m.\u001b[39mData)\u001b[38;5;241m.\u001b[39mT\n\u001b[1;32m      8\u001b[0m index_components\u001b[38;5;241m.\u001b[39mcolumns \u001b[38;5;241m=\u001b[39m [\u001b[38;5;124m\"\u001b[39m\u001b[38;5;124mdate\u001b[39m\u001b[38;5;124m\"\u001b[39m,\u001b[38;5;124m\"\u001b[39m\u001b[38;5;124mwind_code\u001b[39m\u001b[38;5;124m\"\u001b[39m,\u001b[38;5;124m\"\u001b[39m\u001b[38;5;124msec_name\u001b[39m\u001b[38;5;124m\"\u001b[39m,\u001b[38;5;124m\"\u001b[39m\u001b[38;5;124mi_weight\u001b[39m\u001b[38;5;124m\"\u001b[39m,\u001b[38;5;124m\"\u001b[39m\u001b[38;5;124mindustry\u001b[39m\u001b[38;5;124m\"\u001b[39m]\n\u001b[0;32m----> 9\u001b[0m index_components[\u001b[38;5;124m\"\u001b[39m\u001b[38;5;124mrq_code\u001b[39m\u001b[38;5;124m\"\u001b[39m] \u001b[38;5;241m=\u001b[39m \u001b[43mindex_components\u001b[49m\u001b[43m[\u001b[49m\u001b[38;5;124;43m\"\u001b[39;49m\u001b[38;5;124;43mwind_code\u001b[39;49m\u001b[38;5;124;43m\"\u001b[39;49m\u001b[43m]\u001b[49m\u001b[38;5;241;43m.\u001b[39;49m\u001b[43mapply\u001b[49m\u001b[43m(\u001b[49m\u001b[43mrqdatac\u001b[49m\u001b[38;5;241;43m.\u001b[39;49m\u001b[43mid_convert\u001b[49m\u001b[43m)\u001b[49m\n\u001b[1;32m     10\u001b[0m industry_info \u001b[38;5;241m=\u001b[39m rqdatac\u001b[38;5;241m.\u001b[39mget_instrument_industry(index_components[\u001b[38;5;124m\"\u001b[39m\u001b[38;5;124mrq_code\u001b[39m\u001b[38;5;124m\"\u001b[39m]\u001b[38;5;241m.\u001b[39mtolist(),source\u001b[38;5;241m=\u001b[39m\u001b[38;5;124m'\u001b[39m\u001b[38;5;124mcitics_2019\u001b[39m\u001b[38;5;124m'\u001b[39m,level\u001b[38;5;241m=\u001b[39m\u001b[38;5;241m0\u001b[39m)\n\u001b[1;32m     11\u001b[0m \u001b[38;5;66;03m# 将行业信息合并到index_components中\u001b[39;00m\n",
      "File \u001b[0;32m~/Python/.conda/lib/python3.11/site-packages/pandas/core/series.py:4924\u001b[0m, in \u001b[0;36mSeries.apply\u001b[0;34m(self, func, convert_dtype, args, by_row, **kwargs)\u001b[0m\n\u001b[1;32m   4789\u001b[0m \u001b[38;5;28;01mdef\u001b[39;00m \u001b[38;5;21mapply\u001b[39m(\n\u001b[1;32m   4790\u001b[0m     \u001b[38;5;28mself\u001b[39m,\n\u001b[1;32m   4791\u001b[0m     func: AggFuncType,\n\u001b[0;32m   (...)\u001b[0m\n\u001b[1;32m   4796\u001b[0m     \u001b[38;5;241m*\u001b[39m\u001b[38;5;241m*\u001b[39mkwargs,\n\u001b[1;32m   4797\u001b[0m ) \u001b[38;5;241m-\u001b[39m\u001b[38;5;241m>\u001b[39m DataFrame \u001b[38;5;241m|\u001b[39m Series:\n\u001b[1;32m   4798\u001b[0m \u001b[38;5;250m    \u001b[39m\u001b[38;5;124;03m\"\"\"\u001b[39;00m\n\u001b[1;32m   4799\u001b[0m \u001b[38;5;124;03m    Invoke function on values of Series.\u001b[39;00m\n\u001b[1;32m   4800\u001b[0m \n\u001b[0;32m   (...)\u001b[0m\n\u001b[1;32m   4915\u001b[0m \u001b[38;5;124;03m    dtype: float64\u001b[39;00m\n\u001b[1;32m   4916\u001b[0m \u001b[38;5;124;03m    \"\"\"\u001b[39;00m\n\u001b[1;32m   4917\u001b[0m     \u001b[38;5;28;01mreturn\u001b[39;00m \u001b[43mSeriesApply\u001b[49m\u001b[43m(\u001b[49m\n\u001b[1;32m   4918\u001b[0m \u001b[43m        \u001b[49m\u001b[38;5;28;43mself\u001b[39;49m\u001b[43m,\u001b[49m\n\u001b[1;32m   4919\u001b[0m \u001b[43m        \u001b[49m\u001b[43mfunc\u001b[49m\u001b[43m,\u001b[49m\n\u001b[1;32m   4920\u001b[0m \u001b[43m        \u001b[49m\u001b[43mconvert_dtype\u001b[49m\u001b[38;5;241;43m=\u001b[39;49m\u001b[43mconvert_dtype\u001b[49m\u001b[43m,\u001b[49m\n\u001b[1;32m   4921\u001b[0m \u001b[43m        \u001b[49m\u001b[43mby_row\u001b[49m\u001b[38;5;241;43m=\u001b[39;49m\u001b[43mby_row\u001b[49m\u001b[43m,\u001b[49m\n\u001b[1;32m   4922\u001b[0m \u001b[43m        \u001b[49m\u001b[43margs\u001b[49m\u001b[38;5;241;43m=\u001b[39;49m\u001b[43margs\u001b[49m\u001b[43m,\u001b[49m\n\u001b[1;32m   4923\u001b[0m \u001b[43m        \u001b[49m\u001b[43mkwargs\u001b[49m\u001b[38;5;241;43m=\u001b[39;49m\u001b[43mkwargs\u001b[49m\u001b[43m,\u001b[49m\n\u001b[0;32m-> 4924\u001b[0m \u001b[43m    \u001b[49m\u001b[43m)\u001b[49m\u001b[38;5;241;43m.\u001b[39;49m\u001b[43mapply\u001b[49m\u001b[43m(\u001b[49m\u001b[43m)\u001b[49m\n",
      "File \u001b[0;32m~/Python/.conda/lib/python3.11/site-packages/pandas/core/apply.py:1427\u001b[0m, in \u001b[0;36mSeriesApply.apply\u001b[0;34m(self)\u001b[0m\n\u001b[1;32m   1424\u001b[0m     \u001b[38;5;28;01mreturn\u001b[39;00m \u001b[38;5;28mself\u001b[39m\u001b[38;5;241m.\u001b[39mapply_compat()\n\u001b[1;32m   1426\u001b[0m \u001b[38;5;66;03m# self.func is Callable\u001b[39;00m\n\u001b[0;32m-> 1427\u001b[0m \u001b[38;5;28;01mreturn\u001b[39;00m \u001b[38;5;28;43mself\u001b[39;49m\u001b[38;5;241;43m.\u001b[39;49m\u001b[43mapply_standard\u001b[49m\u001b[43m(\u001b[49m\u001b[43m)\u001b[49m\n",
      "File \u001b[0;32m~/Python/.conda/lib/python3.11/site-packages/pandas/core/apply.py:1507\u001b[0m, in \u001b[0;36mSeriesApply.apply_standard\u001b[0;34m(self)\u001b[0m\n\u001b[1;32m   1501\u001b[0m \u001b[38;5;66;03m# row-wise access\u001b[39;00m\n\u001b[1;32m   1502\u001b[0m \u001b[38;5;66;03m# apply doesn't have a `na_action` keyword and for backward compat reasons\u001b[39;00m\n\u001b[1;32m   1503\u001b[0m \u001b[38;5;66;03m# we need to give `na_action=\"ignore\"` for categorical data.\u001b[39;00m\n\u001b[1;32m   1504\u001b[0m \u001b[38;5;66;03m# TODO: remove the `na_action=\"ignore\"` when that default has been changed in\u001b[39;00m\n\u001b[1;32m   1505\u001b[0m \u001b[38;5;66;03m#  Categorical (GH51645).\u001b[39;00m\n\u001b[1;32m   1506\u001b[0m action \u001b[38;5;241m=\u001b[39m \u001b[38;5;124m\"\u001b[39m\u001b[38;5;124mignore\u001b[39m\u001b[38;5;124m\"\u001b[39m \u001b[38;5;28;01mif\u001b[39;00m \u001b[38;5;28misinstance\u001b[39m(obj\u001b[38;5;241m.\u001b[39mdtype, CategoricalDtype) \u001b[38;5;28;01melse\u001b[39;00m \u001b[38;5;28;01mNone\u001b[39;00m\n\u001b[0;32m-> 1507\u001b[0m mapped \u001b[38;5;241m=\u001b[39m \u001b[43mobj\u001b[49m\u001b[38;5;241;43m.\u001b[39;49m\u001b[43m_map_values\u001b[49m\u001b[43m(\u001b[49m\n\u001b[1;32m   1508\u001b[0m \u001b[43m    \u001b[49m\u001b[43mmapper\u001b[49m\u001b[38;5;241;43m=\u001b[39;49m\u001b[43mcurried\u001b[49m\u001b[43m,\u001b[49m\u001b[43m \u001b[49m\u001b[43mna_action\u001b[49m\u001b[38;5;241;43m=\u001b[39;49m\u001b[43maction\u001b[49m\u001b[43m,\u001b[49m\u001b[43m \u001b[49m\u001b[43mconvert\u001b[49m\u001b[38;5;241;43m=\u001b[39;49m\u001b[38;5;28;43mself\u001b[39;49m\u001b[38;5;241;43m.\u001b[39;49m\u001b[43mconvert_dtype\u001b[49m\n\u001b[1;32m   1509\u001b[0m \u001b[43m\u001b[49m\u001b[43m)\u001b[49m\n\u001b[1;32m   1511\u001b[0m \u001b[38;5;28;01mif\u001b[39;00m \u001b[38;5;28mlen\u001b[39m(mapped) \u001b[38;5;129;01mand\u001b[39;00m \u001b[38;5;28misinstance\u001b[39m(mapped[\u001b[38;5;241m0\u001b[39m], ABCSeries):\n\u001b[1;32m   1512\u001b[0m     \u001b[38;5;66;03m# GH#43986 Need to do list(mapped) in order to get treated as nested\u001b[39;00m\n\u001b[1;32m   1513\u001b[0m     \u001b[38;5;66;03m#  See also GH#25959 regarding EA support\u001b[39;00m\n\u001b[1;32m   1514\u001b[0m     \u001b[38;5;28;01mreturn\u001b[39;00m obj\u001b[38;5;241m.\u001b[39m_constructor_expanddim(\u001b[38;5;28mlist\u001b[39m(mapped), index\u001b[38;5;241m=\u001b[39mobj\u001b[38;5;241m.\u001b[39mindex)\n",
      "File \u001b[0;32m~/Python/.conda/lib/python3.11/site-packages/pandas/core/base.py:921\u001b[0m, in \u001b[0;36mIndexOpsMixin._map_values\u001b[0;34m(self, mapper, na_action, convert)\u001b[0m\n\u001b[1;32m    918\u001b[0m \u001b[38;5;28;01mif\u001b[39;00m \u001b[38;5;28misinstance\u001b[39m(arr, ExtensionArray):\n\u001b[1;32m    919\u001b[0m     \u001b[38;5;28;01mreturn\u001b[39;00m arr\u001b[38;5;241m.\u001b[39mmap(mapper, na_action\u001b[38;5;241m=\u001b[39mna_action)\n\u001b[0;32m--> 921\u001b[0m \u001b[38;5;28;01mreturn\u001b[39;00m \u001b[43malgorithms\u001b[49m\u001b[38;5;241;43m.\u001b[39;49m\u001b[43mmap_array\u001b[49m\u001b[43m(\u001b[49m\u001b[43marr\u001b[49m\u001b[43m,\u001b[49m\u001b[43m \u001b[49m\u001b[43mmapper\u001b[49m\u001b[43m,\u001b[49m\u001b[43m \u001b[49m\u001b[43mna_action\u001b[49m\u001b[38;5;241;43m=\u001b[39;49m\u001b[43mna_action\u001b[49m\u001b[43m,\u001b[49m\u001b[43m \u001b[49m\u001b[43mconvert\u001b[49m\u001b[38;5;241;43m=\u001b[39;49m\u001b[43mconvert\u001b[49m\u001b[43m)\u001b[49m\n",
      "File \u001b[0;32m~/Python/.conda/lib/python3.11/site-packages/pandas/core/algorithms.py:1743\u001b[0m, in \u001b[0;36mmap_array\u001b[0;34m(arr, mapper, na_action, convert)\u001b[0m\n\u001b[1;32m   1741\u001b[0m values \u001b[38;5;241m=\u001b[39m arr\u001b[38;5;241m.\u001b[39mastype(\u001b[38;5;28mobject\u001b[39m, copy\u001b[38;5;241m=\u001b[39m\u001b[38;5;28;01mFalse\u001b[39;00m)\n\u001b[1;32m   1742\u001b[0m \u001b[38;5;28;01mif\u001b[39;00m na_action \u001b[38;5;129;01mis\u001b[39;00m \u001b[38;5;28;01mNone\u001b[39;00m:\n\u001b[0;32m-> 1743\u001b[0m     \u001b[38;5;28;01mreturn\u001b[39;00m \u001b[43mlib\u001b[49m\u001b[38;5;241;43m.\u001b[39;49m\u001b[43mmap_infer\u001b[49m\u001b[43m(\u001b[49m\u001b[43mvalues\u001b[49m\u001b[43m,\u001b[49m\u001b[43m \u001b[49m\u001b[43mmapper\u001b[49m\u001b[43m,\u001b[49m\u001b[43m \u001b[49m\u001b[43mconvert\u001b[49m\u001b[38;5;241;43m=\u001b[39;49m\u001b[43mconvert\u001b[49m\u001b[43m)\u001b[49m\n\u001b[1;32m   1744\u001b[0m \u001b[38;5;28;01melse\u001b[39;00m:\n\u001b[1;32m   1745\u001b[0m     \u001b[38;5;28;01mreturn\u001b[39;00m lib\u001b[38;5;241m.\u001b[39mmap_infer_mask(\n\u001b[1;32m   1746\u001b[0m         values, mapper, mask\u001b[38;5;241m=\u001b[39misna(values)\u001b[38;5;241m.\u001b[39mview(np\u001b[38;5;241m.\u001b[39muint8), convert\u001b[38;5;241m=\u001b[39mconvert\n\u001b[1;32m   1747\u001b[0m     )\n",
      "File \u001b[0;32mlib.pyx:2972\u001b[0m, in \u001b[0;36mpandas._libs.lib.map_infer\u001b[0;34m()\u001b[0m\n",
      "File \u001b[0;32m~/Python/.conda/lib/python3.11/site-packages/rqdatac/services/basic.py:1211\u001b[0m, in \u001b[0;36mid_convert\u001b[0;34m(order_book_ids, to)\u001b[0m\n\u001b[1;32m   1209\u001b[0m warnings\u001b[38;5;241m.\u001b[39msimplefilter(\u001b[38;5;124m\"\u001b[39m\u001b[38;5;124mignore\u001b[39m\u001b[38;5;124m\"\u001b[39m)\n\u001b[1;32m   1210\u001b[0m \u001b[38;5;28;01mif\u001b[39;00m \u001b[38;5;28misinstance\u001b[39m(order_book_ids, six\u001b[38;5;241m.\u001b[39mstring_types):\n\u001b[0;32m-> 1211\u001b[0m     \u001b[38;5;28;01mreturn\u001b[39;00m \u001b[43m_convert_one\u001b[49m\u001b[43m(\u001b[49m\u001b[43morder_book_ids\u001b[49m\u001b[43m)\u001b[49m\n\u001b[1;32m   1212\u001b[0m \u001b[38;5;28;01melif\u001b[39;00m \u001b[38;5;28misinstance\u001b[39m(order_book_ids, \u001b[38;5;28mlist\u001b[39m):\n\u001b[1;32m   1213\u001b[0m     \u001b[38;5;28;01mreturn\u001b[39;00m [_convert_one(o) \u001b[38;5;28;01mfor\u001b[39;00m o \u001b[38;5;129;01min\u001b[39;00m order_book_ids]\n",
      "File \u001b[0;32m~/Python/.conda/lib/python3.11/site-packages/rqdatac/services/basic.py:1188\u001b[0m, in \u001b[0;36m_id_convert_one\u001b[0;34m(order_book_id)\u001b[0m\n\u001b[1;32m   1185\u001b[0m     i \u001b[38;5;241m=\u001b[39m m\u001b[38;5;241m.\u001b[39mgroups()[\u001b[38;5;241m0\u001b[39m]\n\u001b[1;32m   1186\u001b[0m     \u001b[38;5;28;01mreturn\u001b[39;00m _all_futures()\u001b[38;5;241m.\u001b[39mget(i, order_book_id)\n\u001b[0;32m-> 1188\u001b[0m \u001b[38;5;28;01mraise\u001b[39;00m \u001b[38;5;167;01mValueError\u001b[39;00m(\u001b[38;5;124m\"\u001b[39m\u001b[38;5;124munknown order_book_id: \u001b[39m\u001b[38;5;132;01m{}\u001b[39;00m\u001b[38;5;124m\"\u001b[39m\u001b[38;5;241m.\u001b[39mformat(order_book_id))\n",
      "\u001b[0;31mValueError\u001b[0m: unknown order_book_id: 830799"
     ]
    }
   ],
   "source": [
    "all_trackCode_list = etf_above_2million[\"跟踪指数代码\"].unique().tolist()\n",
    "trackcode_maxIndustry_dic = {}\n",
    "trackcode_maxIndustry_weights_dic = {}\n",
    "import datetime,dateutil\n",
    "today_date = datetime.date.today\n",
    "for i in range(len(all_trackCode_list)):\n",
    "    index_components = pd.DataFrame(w.wset(\"indexconstituent\", \"date=20250120;windcode=\"+all_trackCode_list[i]+\";\").Data).T\n",
    "    index_components.columns = [\"date\",\"wind_code\",\"sec_name\",\"i_weight\",\"industry\"]\n",
    "    index_components[\"rq_code\"] = index_components[\"wind_code\"].apply(rqdatac.id_convert)\n",
    "    industry_info = rqdatac.get_instrument_industry(index_components[\"rq_code\"].tolist(),source='citics_2019',level=0)\n",
    "    # 将行业信息合并到index_components中\n",
    "    index_components_merged = pd.merge(index_components,industry_info,left_on=\"rq_code\",right_on=\"order_book_id\")\n",
    "    # 计算index_components_merged中i_weights之和最大的second_industry_name,并输出\n",
    "    index_2industry_weights = index_components_merged.groupby(\"second_industry_name\")[\"i_weight\"].sum()\n",
    "    index_2industry_weights = index_2industry_weights.sort_values(ascending=False)\n",
    "    trackcode_maxIndustry_dic[all_trackCode_list[i]] = index_2industry_weights.index[0]\n",
    "    trackcode_maxIndustry_weights_dic[all_trackCode_list[i]] = index_2industry_weights[0]"
   ]
  },
  {
   "cell_type": "code",
   "execution_count": null,
   "metadata": {},
   "outputs": [],
   "source": [
    "# 将trackcode_maxIndustry_dic和trackcode_maxIndustry_weights_dic合并到etf_above_2million中\n",
    "trackcode_maxIndustry_dic\n",
    "# etf_above_2million[\"跟踪指数最大比例行业\"] = etf_above_2million[\"跟踪指数代码\"].map(trackcode_maxIndustry_dic)\n",
    "# etf_above_2million[\"跟踪指数最大比例行业权重\"] = etf_above_2million[\"跟踪指数代码\"].map(trackcode_maxIndustry_weights_dic)\n",
    "# etf_above_2million"
   ]
  },
  {
   "cell_type": "code",
   "execution_count": null,
   "metadata": {},
   "outputs": [],
   "source": [
    "etf_above_2million"
   ]
  },
  {
   "cell_type": "code",
   "execution_count": null,
   "metadata": {},
   "outputs": [],
   "source": [
    "max_weight_industry = index_2industry_weights.index[0]\n",
    "\n",
    "max_weight_industry"
   ]
  },
  {
   "cell_type": "code",
   "execution_count": null,
   "metadata": {},
   "outputs": [],
   "source": [
    "len(index_2industry_weights)"
   ]
  },
  {
   "cell_type": "code",
   "execution_count": null,
   "metadata": {},
   "outputs": [],
   "source": [
    "rqdatac.get_instrument_industry(index_components[\"rq_code\"].tolist(),source='citics_2019',level=0)\n"
   ]
  }
 ],
 "metadata": {
  "kernelspec": {
   "display_name": ".conda",
   "language": "python",
   "name": "python3"
  },
  "language_info": {
   "codemirror_mode": {
    "name": "ipython",
    "version": 3
   },
   "file_extension": ".py",
   "mimetype": "text/x-python",
   "name": "python",
   "nbconvert_exporter": "python",
   "pygments_lexer": "ipython3",
   "version": "3.11.11"
  }
 },
 "nbformat": 4,
 "nbformat_minor": 2
}
